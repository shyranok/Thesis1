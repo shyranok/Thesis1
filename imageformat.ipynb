{
 "cells": [
  {
   "cell_type": "code",
   "execution_count": 1,
   "metadata": {},
   "outputs": [
    {
     "name": "stdout",
     "output_type": "stream",
     "text": [
      "D:\\Thesis Shyrano\\benchmark\\Set14\\HR\n"
     ]
    }
   ],
   "source": [
    "#Change the new dataset to be .png files instead of .jpg files\n",
    "#Code from: https://gist.github.com/qingswu/1a58c9d66dfc0a6aaac45528bbe01b82\n",
    "%cd D:/Thesis Shyrano/benchmark/Set14/HR\n",
    "from glob import glob\n",
    "import cv2\n",
    "jpgs = glob('./*.jpg')\n",
    "\n",
    "for j in jpgs:\n",
    "    img = cv2.imread(j)\n",
    "    cv2.imwrite(j[:-3] + 'png', img)"
   ]
  }
 ],
 "metadata": {
  "interpreter": {
   "hash": "694906ab8eaa7a27fa3869214e9dd963f048b62dcda363f04a825d8d1cf32d19"
  },
  "kernelspec": {
   "display_name": "Python 3.7.9 ('ThesisVenv': venv)",
   "language": "python",
   "name": "python3"
  },
  "language_info": {
   "codemirror_mode": {
    "name": "ipython",
    "version": 3
   },
   "file_extension": ".py",
   "mimetype": "text/x-python",
   "name": "python",
   "nbconvert_exporter": "python",
   "pygments_lexer": "ipython3",
   "version": "3.7.9"
  },
  "orig_nbformat": 4
 },
 "nbformat": 4,
 "nbformat_minor": 2
}
